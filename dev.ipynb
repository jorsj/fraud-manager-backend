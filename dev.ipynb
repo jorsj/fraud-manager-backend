{
 "cells": [
  {
   "cell_type": "code",
   "execution_count": 16,
   "id": "b99583ff",
   "metadata": {},
   "outputs": [],
   "source": [
    "from google.cloud import firestore\n",
    "from google.cloud.firestore_v1.base_query import FieldFilter"
   ]
  },
  {
   "cell_type": "code",
   "execution_count": 17,
   "id": "6b69c664",
   "metadata": {},
   "outputs": [],
   "source": [
    "db = firestore.Client(database=\"fraud-manager\")"
   ]
  },
  {
   "cell_type": "code",
   "execution_count": 34,
   "id": "a086014b",
   "metadata": {},
   "outputs": [],
   "source": [
    "from datetime import datetime, timedelta\n",
    "\n",
    "limit_timestamp = datetime.now() - timedelta(days=30)"
   ]
  },
  {
   "cell_type": "code",
   "execution_count": 38,
   "id": "228be308",
   "metadata": {},
   "outputs": [
    {
     "data": {
      "text/plain": [
       "{'11111111-1',\n",
       " '22222222-2',\n",
       " '33333333-3',\n",
       " '44444444-4',\n",
       " '66666666-6',\n",
       " '77777777-7'}"
      ]
     },
     "execution_count": 38,
     "metadata": {},
     "output_type": "execute_result"
    }
   ],
   "source": [
    "docs = (\n",
    "    db.collection(\"queries\")\n",
    "    .where(filter=FieldFilter(\"phone_number\", \"==\", \"+56911111111\"))\n",
    "    .where(filter=FieldFilter(\"query_timestamp\", \">=\", limit_timestamp))\n",
    "    .stream()\n",
    ")\n",
    "\n",
    "unique_national_ids = {doc.to_dict().get(\"national_id\") for doc in docs}\n",
    "unique_national_ids"
   ]
  },
  {
   "cell_type": "code",
   "execution_count": 1,
   "id": "68971849",
   "metadata": {},
   "outputs": [],
   "source": [
    "import re\n",
    "\n",
    "def clean_string_regex(input_string: str) -> str:\n",
    "    \"\"\"\n",
    "    Removes all non-alphanumeric characters from a string using regex.\n",
    "\n",
    "    Args:\n",
    "        input_string: The string to clean.\n",
    "\n",
    "    Returns:\n",
    "        A new string containing only alphanumeric characters.\n",
    "    \"\"\"\n",
    "    return re.sub(r\"[^a-zA-Z0-9]\", \"\", input_string)\n"
   ]
  },
  {
   "cell_type": "code",
   "execution_count": 7,
   "id": "2e9f97a6",
   "metadata": {},
   "outputs": [
    {
     "data": {
      "text/plain": [
       "'111111111'"
      ]
     },
     "execution_count": 7,
     "metadata": {},
     "output_type": "execute_result"
    }
   ],
   "source": [
    "clean_string_regex(\"+111111111\")"
   ]
  }
 ],
 "metadata": {
  "kernelspec": {
   "display_name": ".venv (3.12.3)",
   "language": "python",
   "name": "python3"
  },
  "language_info": {
   "codemirror_mode": {
    "name": "ipython",
    "version": 3
   },
   "file_extension": ".py",
   "mimetype": "text/x-python",
   "name": "python",
   "nbconvert_exporter": "python",
   "pygments_lexer": "ipython3",
   "version": "3.12.3"
  }
 },
 "nbformat": 4,
 "nbformat_minor": 5
}
